{
 "cells": [
  {
   "cell_type": "code",
   "execution_count": 4,
   "id": "0e757a72-f3e9-494c-818b-a62002cc1c57",
   "metadata": {},
   "outputs": [],
   "source": [
    "import pathlib\n",
    "import os"
   ]
  },
  {
   "cell_type": "code",
   "execution_count": 13,
   "id": "acd7b5d2-41e4-4bc9-87a7-aa3fcac23521",
   "metadata": {},
   "outputs": [
    {
     "data": {
      "text/plain": [
       "PosixPath('/Users/olivergiles/code/ogiles1999/transfer-tflite/models/transfer.tflite')"
      ]
     },
     "execution_count": 13,
     "metadata": {},
     "output_type": "execute_result"
    }
   ],
   "source": [
    "pathlib.Path(os.getcwd()).parent.joinpath(\"models\").joinpath(\"transfer.tflite\")"
   ]
  },
  {
   "cell_type": "code",
   "execution_count": 3,
   "id": "826b7492-aa46-47b3-a314-6f98e07dba5b",
   "metadata": {},
   "outputs": [
    {
     "ename": "AttributeError",
     "evalue": "module 'pathlib' has no attribute 'pwd'",
     "output_type": "error",
     "traceback": [
      "\u001b[0;31m---------------------------------------------------------------------------\u001b[0m",
      "\u001b[0;31mAttributeError\u001b[0m                            Traceback (most recent call last)",
      "\u001b[0;32m/var/folders/j2/8wtg84_s6qxg6hk4z3_kl3p40000gn/T/ipykernel_45977/3742521726.py\u001b[0m in \u001b[0;36m<module>\u001b[0;34m\u001b[0m\n\u001b[0;32m----> 1\u001b[0;31m \u001b[0mpathlib\u001b[0m\u001b[0;34m.\u001b[0m\u001b[0mpwd\u001b[0m\u001b[0;34m\u001b[0m\u001b[0;34m\u001b[0m\u001b[0m\n\u001b[0m",
      "\u001b[0;31mAttributeError\u001b[0m: module 'pathlib' has no attribute 'pwd'"
     ]
    }
   ],
   "source": [
    "pathlib"
   ]
  },
  {
   "cell_type": "code",
   "execution_count": 2,
   "id": "b4ffcf57-6b5a-439b-9a28-bf40ca91693a",
   "metadata": {},
   "outputs": [
    {
     "name": "stdout",
     "output_type": "stream",
     "text": [
      "/Users/olivergiles/code/ogiles1999/transfer-tflite/notebooks\n"
     ]
    }
   ],
   "source": [
    "!pwd"
   ]
  },
  {
   "cell_type": "code",
   "execution_count": null,
   "id": "e9e1a3f5-e645-477a-9760-ea473dc3dcea",
   "metadata": {},
   "outputs": [],
   "source": []
  }
 ],
 "metadata": {
  "kernelspec": {
   "display_name": "Python 3 (ipykernel)",
   "language": "python",
   "name": "python3"
  },
  "language_info": {
   "codemirror_mode": {
    "name": "ipython",
    "version": 3
   },
   "file_extension": ".py",
   "mimetype": "text/x-python",
   "name": "python",
   "nbconvert_exporter": "python",
   "pygments_lexer": "ipython3",
   "version": "3.8.12"
  }
 },
 "nbformat": 4,
 "nbformat_minor": 5
}
